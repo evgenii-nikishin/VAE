{
 "cells": [
  {
   "cell_type": "code",
   "execution_count": 1,
   "metadata": {},
   "outputs": [],
   "source": [
    "import numpy as np\n",
    "import matplotlib.pyplot as plt\n",
    "%matplotlib inline\n",
    "\n",
    "import torch\n",
    "from torch import nn\n",
    "from torch.autograd import Variable\n",
    "from torch.nn import functional as F\n",
    "from torchvision import datasets, transforms"
   ]
  },
  {
   "cell_type": "code",
   "execution_count": 2,
   "metadata": {},
   "outputs": [
    {
     "name": "stdout",
     "output_type": "stream",
     "text": [
      "Downloading http://yann.lecun.com/exdb/mnist/train-images-idx3-ubyte.gz\n",
      "Downloading http://yann.lecun.com/exdb/mnist/train-labels-idx1-ubyte.gz\n",
      "Downloading http://yann.lecun.com/exdb/mnist/t10k-images-idx3-ubyte.gz\n",
      "Downloading http://yann.lecun.com/exdb/mnist/t10k-labels-idx1-ubyte.gz\n",
      "Processing...\n",
      "Done!\n"
     ]
    }
   ],
   "source": [
    "batch_size = 128\n",
    "train_loader = torch.utils.data.DataLoader(\n",
    "    datasets.MNIST('../data', train=True, download=True,\n",
    "                   transform=transforms.Compose([\n",
    "                       transforms.ToTensor()\n",
    "                   ])),\n",
    "    batch_size=batch_size, shuffle=True)\n",
    "test_loader = torch.utils.data.DataLoader(\n",
    "    datasets.MNIST('../data', train=False, transform=transforms.Compose([\n",
    "                       transforms.ToTensor()\n",
    "                   ])),\n",
    "    batch_size=batch_size, shuffle=True)"
   ]
  },
  {
   "cell_type": "code",
   "execution_count": 3,
   "metadata": {},
   "outputs": [],
   "source": [
    "class VAE(nn.Module):\n",
    "    def __init__(self, n_features, n_latent):\n",
    "        super(VAE, self).__init__()\n",
    "        self.n_features = n_features\n",
    "        self.n_latent = n_latent\n",
    "        self._init_architecture()\n",
    "        self.opt = torch.optim.Adam(self.parameters())\n",
    "        self.act = nn.ReLU()\n",
    "        self.sigmoid = nn.Sigmoid()\n",
    "        \n",
    "        \n",
    "    def _init_architecture(self):\n",
    "        n_hidden_enc = 400\n",
    "        self.enc_1 = nn.Linear(n_features, n_hidden_enc)\n",
    "        self.enc_2_mu = nn.Linear(n_hidden_enc, n_latent)\n",
    "        self.enc_2_log_sigma_sq = nn.Linear(n_hidden_enc, n_latent)\n",
    "        \n",
    "        n_hidden_dec = 400\n",
    "        self.dec_1 = nn.Linear(n_latent, n_hidden_dec)\n",
    "        self.dec_2_p = nn.Linear(n_hidden_dec, n_features)\n",
    "        \n",
    "        \n",
    "    def preprocess(self, data):\n",
    "        \"\"\"\n",
    "        Reshapes (mostly) CxHxW images to vectors\n",
    "        \"\"\"\n",
    "        return Variable(data.view(data.shape[:-3] + (-1, )))\n",
    "    \n",
    "    \n",
    "    def infer(self, data):\n",
    "        x = self.preprocess(data)\n",
    "        x = self.act(self.enc_1(x))\n",
    "        return self.enc_2_mu(x), self.enc_2_log_sigma_sq(x)\n",
    "    \n",
    "    \n",
    "    def generate(self, z=None):\n",
    "        \"\"\"\n",
    "        Bernoulli decoder\n",
    "        \"\"\"\n",
    "        if z is None:\n",
    "            z = torch.randn((1, 1))\n",
    "        \n",
    "        x = self.act(self.dec_1(z))\n",
    "        return self.sigmoid(self.dec_2_p(x))\n",
    "    \n",
    "    \n",
    "    def forward(self, data):\n",
    "        z_mu, z_log_sigma_sq = self.infer(data)\n",
    "        z = torch.randn(z_mu.shape)\n",
    "        z = Variable(z) * torch.exp(z_log_sigma_sq / 2) + z_mu\n",
    "        return z_mu, z_log_sigma_sq, self.generate(z)\n",
    "    \n",
    "    \n",
    "    def train(self, data, verbose=False):\n",
    "        z_mu, z_log_sigma_sq, x_p = self.forward(data)\n",
    "        \n",
    "        data_term = -F.binary_cross_entropy(x_p, self.preprocess(data))\n",
    "        kl_term = 0.5 * torch.sum(1 + z_log_sigma_sq - z_mu.pow(2) - z_log_sigma_sq.exp())\n",
    "        kl_term /= data.shape[0] * 784\n",
    "        \n",
    "        loss = -(data_term + kl_term)\n",
    "        self.update(loss)\n",
    "\n",
    "        if verbose:\n",
    "            print('NLL: {0:.4f}'.format(loss.data[0]))\n",
    "    \n",
    "    \n",
    "    def update(self, loss):\n",
    "        self.opt.zero_grad()\n",
    "        loss.backward()\n",
    "        self.opt.step()"
   ]
  },
  {
   "cell_type": "code",
   "execution_count": 4,
   "metadata": {},
   "outputs": [],
   "source": [
    "n_features = int(np.prod(train_loader.dataset.train_data.shape[1:]))\n",
    "n_latent = 20\n",
    "vae = VAE(n_features, n_latent)"
   ]
  },
  {
   "cell_type": "code",
   "execution_count": 5,
   "metadata": {
    "scrolled": false
   },
   "outputs": [
    {
     "name": "stdout",
     "output_type": "stream",
     "text": [
      "\n",
      "0 samples processed. NLL: 0.6989\n",
      "12800 samples processed. NLL: 0.2038\n",
      "25600 samples processed. NLL: 0.1687\n",
      "38400 samples processed. NLL: 0.1646\n",
      "51200 samples processed. NLL: 0.1541\n",
      "\n",
      "0 samples processed. NLL: 0.1510\n",
      "12800 samples processed. NLL: 0.1503\n",
      "25600 samples processed. NLL: 0.1481\n",
      "38400 samples processed. NLL: 0.1485\n",
      "51200 samples processed. NLL: 0.1376\n",
      "\n",
      "0 samples processed. NLL: 0.1438\n",
      "12800 samples processed. NLL: 0.1418\n",
      "25600 samples processed. NLL: 0.1410\n",
      "38400 samples processed. NLL: 0.1391\n",
      "51200 samples processed. NLL: 0.1424\n"
     ]
    }
   ],
   "source": [
    "n_epoch = 3\n",
    "for e in range(n_epoch):\n",
    "    print()\n",
    "    #print('Epoch', e+1)\n",
    "    for i, (batch, _) in enumerate(train_loader):\n",
    "        if i % 100 == 0:\n",
    "            verbose = True\n",
    "            print('{} samples processed'.format(i * train_loader.batch_size), end='. ')\n",
    "        else:\n",
    "            verbose = False\n",
    "        vae.train(batch, verbose=verbose)\n",
    "        #vae.train(Variable(batch))\n",
    "        vae.train((batch))"
   ]
  },
  {
   "cell_type": "code",
   "execution_count": 6,
   "metadata": {
    "scrolled": false
   },
   "outputs": [
    {
     "data": {
      "image/png": "[encoded data removed]",
      "text/plain": [
       "<matplotlib.figure.Figure at 0x117412048>"
      ]
     },
     "metadata": {},
     "output_type": "display_data"
    }
   ],
   "source": [
    "for data, _ in test_loader:\n",
    "    plt.subplot(121)\n",
    "    plt.imshow(data.view(-1, 28, 28).numpy()[0])\n",
    "    _, _, x_p = vae.forward(data)\n",
    "    plt.subplot(122)\n",
    "    plt.imshow(x_p.data.view(-1, 28, 28).numpy()[0])\n",
    "    break"
   ]
  },
  {
   "cell_type": "code",
   "execution_count": null,
   "metadata": {},
   "outputs": [],
   "source": []
  }
 ],
 "metadata": {
  "kernelspec": {
   "display_name": "Python 3",
   "language": "python",
   "name": "python3"
  },
  "language_info": {
   "codemirror_mode": {
    "name": "ipython",
    "version": 3
   },
   "file_extension": ".py",
   "mimetype": "text/x-python",
   "name": "python",
   "nbconvert_exporter": "python",
   "pygments_lexer": "ipython3",
   "version": "3.6.4"
  }
 },
 "nbformat": 4,
 "nbformat_minor": 2
}
